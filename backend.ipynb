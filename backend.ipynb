{
 "cells": [
  {
   "cell_type": "code",
   "execution_count": 1,
   "metadata": {},
   "outputs": [],
   "source": [
    "import adjancy_matrix_gen\n",
    "import copy\n",
    "\n",
    "\n",
    "def backened(src, obstacles, destination):\n",
    "    def min_distance(dist, sp_set):                   # choose b/n a vertex from set of vertices connected to parent\n",
    "        min = 10**10\n",
    "        global min_index\n",
    "        for v in range(400):                        # minimum distant adjacent vertex is chosen\n",
    "            if sp_set[v] == False and dist[v]<=min:\n",
    "                min = dist[v]\n",
    "                min_index = v\n",
    "        return min_index\n",
    "\n",
    "    graph, size = copy.deepcopy(adjancy_matrix_gen.return_matrix())    # returns adjacency matrix and size\n",
    "    parent = [-2 for i in range(400)]                   # every vertex keep track of its parent vertex\n",
    "\n",
    "    for value in obstacles:                             # gets every obstacle value from list\n",
    "        for z in range(size):                           # breaks connection of every obstacle with rest in matrix\n",
    "            graph[z][value] = 0\n",
    "\n",
    "    dist = [10**10 for i in range(size)]                # stores the dist w.r.t to src\n",
    "    sp_set = [False for i in range(size)]               # tells whether already selected or covered along path\n",
    "    dist[src] = 0\n",
    "    parent[src] = -1\n",
    "\n",
    "    for i in range(size-1):\n",
    "        u = min_distance(dist, sp_set)                  # returns the minimum distant adjacent vertex\n",
    "        sp_set[u] = True\n",
    "                                         # find all the vertices connected to the selected vertex u\n",
    "        for v in range(size):\n",
    "            if sp_set[v] is False and graph[u][v] != 0 and dist[u] != 10**10 and dist[u] + graph[u][v] < dist[v]:\n",
    "                dist[v] = dist[u] + graph[u][v]\n",
    "                parent[v] = u\n",
    "\n",
    "    # for i in range(size):\n",
    "    #     print(i, '-------', dist[i])\n",
    "    # print(parent)\n",
    "\n",
    "    def ancestor(dest):\n",
    "        list1 = []\n",
    "        stop = dest\n",
    "        while parent[stop] != -1:               # process of finding ancestory of destination vertex\n",
    "            list1.append(parent[stop])\n",
    "            stop = parent[stop]\n",
    "\n",
    "        return list1\n",
    "\n",
    "    destination_parent = ancestor(destination)\n",
    "    #print('parent list', destination_parent)\n",
    "    return destination_parent"
   ]
  },
  {
   "cell_type": "code",
   "execution_count": null,
   "metadata": {},
   "outputs": [],
   "source": []
  },
  {
   "cell_type": "code",
   "execution_count": null,
   "metadata": {},
   "outputs": [],
   "source": []
  }
 ],
 "metadata": {
  "kernelspec": {
   "display_name": "Python 3",
   "language": "python",
   "name": "python3"
  },
  "language_info": {
   "codemirror_mode": {
    "name": "ipython",
    "version": 3
   },
   "file_extension": ".py",
   "mimetype": "text/x-python",
   "name": "python",
   "nbconvert_exporter": "python",
   "pygments_lexer": "ipython3",
   "version": "3.6.5"
  }
 },
 "nbformat": 4,
 "nbformat_minor": 2
}
